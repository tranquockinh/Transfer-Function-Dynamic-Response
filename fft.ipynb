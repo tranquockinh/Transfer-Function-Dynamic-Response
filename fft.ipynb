{
 "cells": [
  {
   "cell_type": "code",
   "execution_count": null,
   "id": "a0db42bb-217c-4e85-a638-a5884433f4d1",
   "metadata": {},
   "outputs": [],
   "source": [
    "from Paras import *\n",
    "def fft(x):\n",
    "    N = len(x)\n",
    "    if N == 1:\n",
    "        return x\n",
    "    else:\n",
    "        x_even = fft(x[::2])\n",
    "        x_odd = fft(x[1::2])\n",
    "        factor = np.exp(-2j*np.pi*np.arange(N)/ N)\n",
    "        x_transform = np.concatenate(\\\n",
    "            [x_even+factor[:int(N/2)]*x_odd,\n",
    "             x_even+factor[int(N/2):]*x_odd])\n",
    "        return x_transform"
   ]
  }
 ],
 "metadata": {
  "kernelspec": {
   "display_name": "Python 3",
   "language": "python",
   "name": "python3"
  },
  "language_info": {
   "codemirror_mode": {
    "name": "ipython",
    "version": 3
   },
   "file_extension": ".py",
   "mimetype": "text/x-python",
   "name": "python",
   "nbconvert_exporter": "python",
   "pygments_lexer": "ipython3",
   "version": "3.8.10"
  }
 },
 "nbformat": 4,
 "nbformat_minor": 5
}
