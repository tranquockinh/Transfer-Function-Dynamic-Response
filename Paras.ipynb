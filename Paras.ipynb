{
 "cells": [
  {
   "cell_type": "code",
   "execution_count": null,
   "id": "f8dc1b96-978f-4ac6-8fc6-391a00d0c1a3",
   "metadata": {},
   "outputs": [],
   "source": [
    "import numpy as np\n",
    "import matplotlib.pyplot as plt\n",
    "# Import data\n",
    "dataInput = open('earthquake.txt','r', encoding='utf-8-sig')\n",
    "data = dataInput.read().split('\\n')\n",
    "# Initialize earthquake data\n",
    "listData = []\n",
    "# Read data\n",
    "for dataPoints in data:\n",
    "    if dataPoints == '': \n",
    "        continue\n",
    "    \n",
    "    elif np.array([dataPoints]).dtype != 'float' or 'int':\n",
    "        listData.append(float(dataPoints))\n",
    "eqData = np.zeros((len(listData),1))\n",
    "for i in range(len(listData)):\n",
    "    eqData[i] = listData[i]\n",
    "eqData = (eqData-np.mean(eqData)) * 9.81\n",
    "# Define legnth of signal series\n",
    "for i in range(len(eqData)):\n",
    "\n",
    "    if i**3 < len(eqData): continue\n",
    "    else:\n",
    "        N = (i**3) * 2\n",
    "        break\n",
    "print('# data points are: {}'.format(N))\n",
    "Pad_Begin = np.zeros((100,1))\n",
    "Pad_End = np.zeros((N-len(eqData)-100, 1))\n",
    "Data = np.concatenate((Pad_Begin, eqData,Pad_End), axis=0)\n",
    "\n"
   ]
  }
 ],
 "metadata": {
  "kernelspec": {
   "display_name": "Python 3",
   "language": "python",
   "name": "python3"
  },
  "language_info": {
   "codemirror_mode": {
    "name": "ipython",
    "version": 3
   },
   "file_extension": ".py",
   "mimetype": "text/x-python",
   "name": "python",
   "nbconvert_exporter": "python",
   "pygments_lexer": "ipython3",
   "version": "3.8.10"
  }
 },
 "nbformat": 4,
 "nbformat_minor": 5
}
